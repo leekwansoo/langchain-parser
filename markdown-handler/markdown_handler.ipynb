{
 "cells": [
  {
   "cell_type": "markdown",
   "metadata": {},
   "source": [
    "Convert Markdown to PDF with Python"
   ]
  },
  {
   "cell_type": "markdown",
   "metadata": {},
   "source": []
  },
  {
   "cell_type": "code",
   "execution_count": 1,
   "metadata": {},
   "outputs": [
    {
     "name": "stdout",
     "output_type": "stream",
     "text": [
      "Requirement already satisfied: Spire.Doc in c:\\users\\user2\\anaconda3\\lib\\site-packages (12.7.1)\n",
      "Requirement already satisfied: plum-dispatch==1.7.4 in c:\\users\\user2\\anaconda3\\lib\\site-packages (from Spire.Doc) (1.7.4)\n"
     ]
    }
   ],
   "source": [
    "! pip install Spire.Doc"
   ]
  },
  {
   "cell_type": "code",
   "execution_count": 2,
   "metadata": {},
   "outputs": [],
   "source": [
    "from spire.doc import *\n",
    "from spire.doc.common import *"
   ]
  },
  {
   "cell_type": "markdown",
   "metadata": {},
   "source": [
    "Convert to word"
   ]
  },
  {
   "cell_type": "code",
   "execution_count": 5,
   "metadata": {},
   "outputs": [],
   "source": [
    "# Create a Document object\n",
    "document = Document()\n",
    "\n",
    "# Load a Markdown file\n",
    "document.LoadFromFile(\"data/sample.md\")\n",
    "\n",
    "# Save it as a docx file\n",
    "document.SaveToFile(\"output/ToWord.docx\", FileFormat.Docx2016)\n",
    "\n",
    "# Dispose resources\n",
    "document.Dispose()"
   ]
  },
  {
   "cell_type": "code",
   "execution_count": 4,
   "metadata": {},
   "outputs": [],
   "source": [
    "#  convert to PDF\n",
    "\n",
    "from spire.doc import *\n",
    "from spire.doc.common import *\n",
    "\n",
    "# Create a Document object\n",
    "document = Document()\n",
    "\n",
    "# Load a Markdown file\n",
    "document.LoadFromFile(\"data/sample.md\")\n",
    "\n",
    "# Save it as a pdf file\n",
    "document.SaveToFile(\"output/ToPdf.pdf\", FileFormat.PDF)\n",
    "\n",
    "# Dispose resources\n",
    "document.Dispose()"
   ]
  },
  {
   "cell_type": "code",
   "execution_count": 6,
   "metadata": {},
   "outputs": [],
   "source": [
    "# Convert to HTML\n",
    "\n",
    "from spire.doc import *\n",
    "from spire.doc.common import *\n",
    "\n",
    "# Create a Document object\n",
    "document = Document()\n",
    "\n",
    "# Load a Markdown file\n",
    "document.LoadFromFile(\"data/sample.md\")\n",
    "\n",
    "# Set css style sheet type as internal\n",
    "document.HtmlExportOptions.CssStyleSheetType = CssStyleSheetType.Internal\n",
    "\n",
    "# Save it as a html file\n",
    "document.SaveToFile(\"output/ToHtml.html\", FileFormat.Html)\n",
    "\n",
    "# Dispose resources\n",
    "document.Dispose()"
   ]
  }
 ],
 "metadata": {
  "kernelspec": {
   "display_name": "base",
   "language": "python",
   "name": "python3"
  },
  "language_info": {
   "codemirror_mode": {
    "name": "ipython",
    "version": 3
   },
   "file_extension": ".py",
   "mimetype": "text/x-python",
   "name": "python",
   "nbconvert_exporter": "python",
   "pygments_lexer": "ipython3",
   "version": "3.11.7"
  }
 },
 "nbformat": 4,
 "nbformat_minor": 2
}
